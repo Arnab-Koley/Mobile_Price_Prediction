{
 "cells": [
  {
   "cell_type": "markdown",
   "id": "2b4816dc-9db1-4cd7-a88a-ed7c44cbf1f1",
   "metadata": {},
   "source": [
    "# Mobile Price Prediction data preprocessing"
   ]
  },
  {
   "cell_type": "markdown",
   "id": "1ceeb1f4-bff1-4378-9af7-c742ed38a8eb",
   "metadata": {},
   "source": [
    "## Imports"
   ]
  },
  {
   "cell_type": "code",
   "execution_count": 1,
   "id": "052afbf6-543f-4d21-8065-13f0ec436def",
   "metadata": {},
   "outputs": [],
   "source": [
    "import pandas as pd\n",
    "import re\n",
    "from IPython.display import display"
   ]
  },
  {
   "cell_type": "markdown",
   "id": "f60ab08d-184d-48a7-927e-8281db93173f",
   "metadata": {},
   "source": [
    "## Load the dataset"
   ]
  },
  {
   "cell_type": "code",
   "execution_count": 2,
   "id": "dbcf1349-5478-4af7-96ee-e22c947472bb",
   "metadata": {},
   "outputs": [],
   "source": [
    "df = pd.read_csv('mobile_data.csv')"
   ]
  },
  {
   "cell_type": "markdown",
   "id": "700b69dc-4b25-4929-a717-66324ee0a827",
   "metadata": {},
   "source": [
    "## List of columns to keep"
   ]
  },
  {
   "cell_type": "code",
   "execution_count": 3,
   "id": "1bcbe78c-aa2f-410d-9422-e17301790155",
   "metadata": {},
   "outputs": [],
   "source": [
    "columns_to_keep = [\n",
    "    'Rating', 'Spec_score', 'No_of_sim', 'Ram', 'Battery', 'Display', 'Camera', \n",
    "    'External_Memory', 'Android_version', 'Price', 'Inbuilt_memory', \n",
    "    'fast_charging', 'Screen_resolution', 'Processor', 'Processor_name'\n",
    "]\n",
    "df = df[columns_to_keep]"
   ]
  },
  {
   "cell_type": "markdown",
   "id": "5f0eb2b8-8b12-4b28-85ae-0a309463f5de",
   "metadata": {},
   "source": [
    "## Preprocessing 'No_of_sim' Column\n",
    "- Find all unique features in the 'No_of_sim' column"
   ]
  },
  {
   "cell_type": "code",
   "execution_count": 4,
   "id": "7a1d75b1-184b-4459-a4ad-97b9b0020108",
   "metadata": {},
   "outputs": [
    {
     "data": {
      "text/plain": [
       "0       None\n",
       "1       None\n",
       "2       None\n",
       "3       None\n",
       "4       None\n",
       "        ... \n",
       "1365    None\n",
       "1366    None\n",
       "1367    None\n",
       "1368    None\n",
       "1369    None\n",
       "Name: No_of_sim, Length: 1370, dtype: object"
      ]
     },
     "execution_count": 4,
     "metadata": {},
     "output_type": "execute_result"
    }
   ],
   "source": [
    "unique_features = set()\n",
    "df['No_of_sim'].apply(lambda x: unique_features.update(x.split(', ')))"
   ]
  },
  {
   "cell_type": "markdown",
   "id": "268db830-9fb9-4c1f-9aa7-cb07b03c3940",
   "metadata": {},
   "source": [
    "- Remove empty string from unique features"
   ]
  },
  {
   "cell_type": "code",
   "execution_count": 5,
   "id": "566dc691-236a-4320-ad1e-ac44c8ee6cb2",
   "metadata": {},
   "outputs": [],
   "source": [
    "unique_features.discard('')"
   ]
  },
  {
   "cell_type": "markdown",
   "id": "2bde9102-1960-4004-9d78-3d7ea3b38dae",
   "metadata": {},
   "source": [
    "- Create boolean columns for each unique feature"
   ]
  },
  {
   "cell_type": "code",
   "execution_count": 6,
   "id": "de3f7f36-382e-4937-a5aa-57ad6193976a",
   "metadata": {},
   "outputs": [],
   "source": [
    "for feature in unique_features:\n",
    "    df[feature] = df['No_of_sim'].apply(lambda x: feature in x)"
   ]
  },
  {
   "cell_type": "markdown",
   "id": "04a4a928-7e35-464b-b546-46db7e594e0f",
   "metadata": {},
   "source": [
    "- Drop the original 'No_of_sim' column as it's no longer needed"
   ]
  },
  {
   "cell_type": "code",
   "execution_count": 7,
   "id": "972bf431-4b65-4531-88ea-47ba009a4ea8",
   "metadata": {},
   "outputs": [],
   "source": [
    "df.drop('No_of_sim', axis=1, inplace=True)"
   ]
  },
  {
   "cell_type": "markdown",
   "id": "4c6cb274-6816-4d77-b8a3-c1faa55d6b77",
   "metadata": {},
   "source": [
    "## Preprocessing 'Ram' Column\n",
    "- Keep only numeric value"
   ]
  },
  {
   "cell_type": "code",
   "execution_count": 8,
   "id": "94f4df39-a302-4428-bb84-966d7f463496",
   "metadata": {},
   "outputs": [],
   "source": [
    "df['Ram'] = df['Ram'].apply(lambda x: int(re.search(r'\\d+', x).group()))"
   ]
  },
  {
   "cell_type": "markdown",
   "id": "12217eef-65dc-4c96-8ae2-166a359282c4",
   "metadata": {},
   "source": [
    "## Preprocessing 'Battery' Column\n",
    "- Keep only numeric value"
   ]
  },
  {
   "cell_type": "code",
   "execution_count": 9,
   "id": "62426dcc-33bb-4c7a-87d8-6a558ee73941",
   "metadata": {},
   "outputs": [],
   "source": [
    "df['Battery'] = df['Battery'].apply(lambda x: int(re.search(r'\\d+', x).group()))"
   ]
  },
  {
   "cell_type": "markdown",
   "id": "1d790b6a-0ba4-4edd-a7ad-7ce8f4711be8",
   "metadata": {},
   "source": [
    "## Preprocessing 'Display' Column\n",
    "- Keep only numeric value"
   ]
  },
  {
   "cell_type": "code",
   "execution_count": 10,
   "id": "60beaedf-17cc-43b5-b13c-758c1e2dfa12",
   "metadata": {},
   "outputs": [],
   "source": [
    "df['Display'] = df['Display'].apply(lambda x: float(re.search(r'\\d+(\\.\\d+)?', x).group()))"
   ]
  },
  {
   "cell_type": "markdown",
   "id": "9b0461d5-03bd-4424-9f63-81ae50662618",
   "metadata": {},
   "source": [
    "## Preprocessing 'Camera' Column\n",
    "- Functions"
   ]
  },
  {
   "cell_type": "code",
   "execution_count": 11,
   "id": "5cd5e7b1-731c-4863-8226-5d82c230041a",
   "metadata": {},
   "outputs": [],
   "source": [
    "def extract_rear_camera_info(camera_str):\n",
    "    rear_cameras = re.findall(r'(\\d+) MP', camera_str.split('&')[0])\n",
    "    rear_camera_count = len(rear_cameras)\n",
    "    highest_rear_camera = max(map(int, rear_cameras)) if rear_cameras else None\n",
    "    return rear_camera_count, highest_rear_camera\n",
    "\n",
    "def extract_front_camera_info(camera_str):\n",
    "    front_cameras = re.findall(r'(\\d+) MP Front', camera_str)\n",
    "    front_camera_count = len(front_cameras)\n",
    "    highest_front_camera = max(map(int, front_cameras)) if front_cameras else None\n",
    "    return front_camera_count, highest_front_camera"
   ]
  },
  {
   "cell_type": "markdown",
   "id": "946a4274-0382-4ff7-a82a-7ef9737545ff",
   "metadata": {},
   "source": [
    "- Apply the functions to create new columns"
   ]
  },
  {
   "cell_type": "code",
   "execution_count": 12,
   "id": "c52cb9ea-9e48-4d4d-9b68-0fbbce9c3258",
   "metadata": {},
   "outputs": [],
   "source": [
    "df['Rear_Camera_Count'], df['Highest_Rear_Camera'] = zip(*df['Camera'].apply(extract_rear_camera_info))\n",
    "df['Front_Camera_Count'], df['Highest_Front_Camera'] = zip(*df['Camera'].apply(extract_front_camera_info))"
   ]
  },
  {
   "cell_type": "markdown",
   "id": "4c5bd04e-f889-4971-8da9-95dcda0c00ab",
   "metadata": {},
   "source": [
    "- Drop the original 'Camera' column as it's no longer needed"
   ]
  },
  {
   "cell_type": "code",
   "execution_count": 13,
   "id": "db9acc20-57e0-4318-8c6a-91182dde5ea6",
   "metadata": {},
   "outputs": [],
   "source": [
    "df.drop('Camera', axis=1, inplace=True)"
   ]
  },
  {
   "cell_type": "markdown",
   "id": "4bd174a6-d08a-4aa7-b707-fad92cf7caf6",
   "metadata": {},
   "source": [
    "## Preprocessing 'External_Memory' Column\n",
    "- Function to determine if memory card is supported"
   ]
  },
  {
   "cell_type": "code",
   "execution_count": 14,
   "id": "662f916a-cef5-4083-8f60-acdef2654d76",
   "metadata": {},
   "outputs": [],
   "source": [
    "def is_memory_card_supported(memory_str):\n",
    "    return 'Memory Card Supported' in memory_str or 'Memory Card (Hybrid)' in memory_str"
   ]
  },
  {
   "cell_type": "markdown",
   "id": "42b7c010-9fa8-4bdc-b5b6-4d20cfded2ed",
   "metadata": {},
   "source": [
    "- Function to determine if memory card slot is hybrid"
   ]
  },
  {
   "cell_type": "code",
   "execution_count": 15,
   "id": "b7ec63bd-1abc-4675-adc6-48608e839425",
   "metadata": {},
   "outputs": [],
   "source": [
    "def is_memory_card_hybrid(memory_str):\n",
    "    return 'Memory Card (Hybrid)' in memory_str"
   ]
  },
  {
   "cell_type": "markdown",
   "id": "3586a059-7b88-44cd-a497-6b9234a5367c",
   "metadata": {},
   "source": [
    "- Function to extract the maximum memory card limit"
   ]
  },
  {
   "cell_type": "code",
   "execution_count": 16,
   "id": "5798757b-bd04-4a45-92da-7bdd6eb37191",
   "metadata": {},
   "outputs": [],
   "source": [
    "def extract_memory_card_limit(memory_str):\n",
    "    match = re.search(r'(\\d+)\\s?(GB|TB)', memory_str)\n",
    "    if match:\n",
    "        size = int(match.group(1))\n",
    "        unit = match.group(2)\n",
    "        return size * 1024 if unit == 'TB' else size\n",
    "    return None"
   ]
  },
  {
   "cell_type": "markdown",
   "id": "51cfa6c1-98a3-41e5-88d7-3bab648a07bd",
   "metadata": {},
   "source": [
    "- Create new columns based on the above functions"
   ]
  },
  {
   "cell_type": "code",
   "execution_count": 17,
   "id": "184781e2-eab8-404e-a288-96386467d328",
   "metadata": {},
   "outputs": [],
   "source": [
    "df['Memory_Card_Supported'] = df['External_Memory'].apply(is_memory_card_supported)\n",
    "df['Memory_Card_Hybrid'] = df['External_Memory'].apply(is_memory_card_hybrid)\n",
    "df['Memory_Card_Max_Limit'] = df['External_Memory'].apply(extract_memory_card_limit)"
   ]
  },
  {
   "cell_type": "markdown",
   "id": "3dcee1f4-173e-46d9-bb31-4ab781864370",
   "metadata": {},
   "source": [
    "- Drop the original 'External_Memory' column as it's no longer needed"
   ]
  },
  {
   "cell_type": "code",
   "execution_count": 18,
   "id": "2c4ede1f-b15f-4e35-b4e1-ca5b49dc6435",
   "metadata": {},
   "outputs": [],
   "source": [
    "df.drop('External_Memory', axis=1, inplace=True)"
   ]
  },
  {
   "cell_type": "markdown",
   "id": "ec637851-09ff-4bef-8212-7ba1d0ab83d8",
   "metadata": {},
   "source": [
    "## Preprocessing 'Android_version' Column\n",
    "- Function"
   ]
  },
  {
   "cell_type": "code",
   "execution_count": 19,
   "id": "616439f0-5d65-48e8-a861-a7f788ea6885",
   "metadata": {},
   "outputs": [],
   "source": [
    "def extract_android_version(version_str):\n",
    "    if pd.notnull(version_str):\n",
    "        version_str = str(version_str)\n",
    "        match = re.search(r'\\d+(\\.\\d+)?', version_str)\n",
    "        if match:\n",
    "            return float(match.group(0))\n",
    "    return None"
   ]
  },
  {
   "cell_type": "markdown",
   "id": "c207f2ec-8755-4d71-b27b-ce5193094959",
   "metadata": {},
   "source": [
    "- Keep only numeric value"
   ]
  },
  {
   "cell_type": "code",
   "execution_count": 20,
   "id": "582b6823-8b97-4ae0-b28f-651c87fbd5f4",
   "metadata": {},
   "outputs": [],
   "source": [
    "df['Android_version'] = df['Android_version'].apply(extract_android_version)"
   ]
  },
  {
   "cell_type": "markdown",
   "id": "f694eb7f-59b7-4e57-9ac1-3dc5327b2e03",
   "metadata": {},
   "source": [
    "## Preprocessing 'Price' Column\n",
    "- Function"
   ]
  },
  {
   "cell_type": "code",
   "execution_count": 21,
   "id": "935bc8d0-6381-4048-875e-d4d296c0a51f",
   "metadata": {},
   "outputs": [],
   "source": [
    "def convert_price(price_str):\n",
    "    if pd.notnull(price_str):\n",
    "        # Remove commas and convert to integer\n",
    "        price_str = str(price_str).replace(',', '')\n",
    "        return int(price_str)\n",
    "    return None"
   ]
  },
  {
   "cell_type": "markdown",
   "id": "0ed32d20-008a-4407-816f-49cb2d71ac1b",
   "metadata": {},
   "source": [
    "- Convert to numeric value"
   ]
  },
  {
   "cell_type": "code",
   "execution_count": 22,
   "id": "78217519-b1e2-4807-a94e-22171b51c736",
   "metadata": {},
   "outputs": [],
   "source": [
    "df['Price'] = df['Price'].apply(convert_price)"
   ]
  },
  {
   "cell_type": "markdown",
   "id": "299cb322-bb45-43b3-b737-e4ad5cb4a3f0",
   "metadata": {},
   "source": [
    "## Preprocessing 'Inbuilt_memory' Column\n",
    "- Function"
   ]
  },
  {
   "cell_type": "code",
   "execution_count": 23,
   "id": "dcc708a5-184e-4bcd-9888-69100ac572e4",
   "metadata": {},
   "outputs": [],
   "source": [
    "def extract_inbuilt_memory(memory_str):\n",
    "    if pd.notnull(memory_str):\n",
    "        match = re.search(r'\\d+', memory_str)\n",
    "        if match:\n",
    "            return int(match.group(0))\n",
    "    return None"
   ]
  },
  {
   "cell_type": "markdown",
   "id": "e6331161-7274-4573-8433-c2ee81e7fa1a",
   "metadata": {},
   "source": [
    "- Keep only numeric value"
   ]
  },
  {
   "cell_type": "code",
   "execution_count": 24,
   "id": "2a7b9f5b-d87b-46ac-b6c6-1f95178ed196",
   "metadata": {},
   "outputs": [],
   "source": [
    "df['Inbuilt_memory'] = df['Inbuilt_memory'].apply(extract_inbuilt_memory)"
   ]
  },
  {
   "cell_type": "markdown",
   "id": "45d9bab1-c319-4d2c-80d8-0786eb9c9a28",
   "metadata": {},
   "source": [
    "## Preprocessing 'fast_charging' Column\n",
    "- Function"
   ]
  },
  {
   "cell_type": "code",
   "execution_count": 25,
   "id": "6e76b124-2bd4-463b-bcdb-23463195e725",
   "metadata": {},
   "outputs": [],
   "source": [
    "def extract_fast_charging(charging_str):\n",
    "    if pd.notnull(charging_str):\n",
    "        match = re.search(r'\\d+', charging_str)\n",
    "        if match:\n",
    "            return int(match.group(0))\n",
    "    return None"
   ]
  },
  {
   "cell_type": "markdown",
   "id": "57baf062-dc07-4262-bfa8-08d1cf1f3176",
   "metadata": {},
   "source": [
    "- Keep only numeric value"
   ]
  },
  {
   "cell_type": "code",
   "execution_count": 26,
   "id": "2b0ea5a1-1531-415a-aa1d-d7e41f6cffa5",
   "metadata": {},
   "outputs": [],
   "source": [
    "df['fast_charging'] = df['fast_charging'].apply(extract_fast_charging)"
   ]
  },
  {
   "cell_type": "markdown",
   "id": "a2f77bd8-9b7d-4ba5-b113-0dfd1703a447",
   "metadata": {},
   "source": [
    "## Preprocessing 'Screen_resolution' Column\n",
    "- Function"
   ]
  },
  {
   "cell_type": "code",
   "execution_count": 27,
   "id": "72676d07-dec4-41ea-b889-01e4f02e3004",
   "metadata": {},
   "outputs": [],
   "source": [
    "def extract_resolution_only(res_str):\n",
    "    if pd.notnull(res_str):\n",
    "        match = re.search(r'(\\d+\\s+x\\s+\\d+)', res_str)\n",
    "        if match:\n",
    "            return match.group(1)\n",
    "    return None"
   ]
  },
  {
   "cell_type": "markdown",
   "id": "c030fec8-1657-4220-ad79-839eaf26460b",
   "metadata": {},
   "source": [
    "- Keep only width x height part"
   ]
  },
  {
   "cell_type": "code",
   "execution_count": 28,
   "id": "f9953326-fa45-4c66-ad54-4f42fd99cfad",
   "metadata": {},
   "outputs": [],
   "source": [
    "df['Screen_resolution'] = df['Screen_resolution'].apply(extract_resolution_only)"
   ]
  },
  {
   "cell_type": "markdown",
   "id": "d2aa33f0-e71d-4326-9951-ce76b8b22de3",
   "metadata": {},
   "source": [
    "## Preprocessing 'Processor' Column\n",
    "- Function to convert text to number"
   ]
  },
  {
   "cell_type": "code",
   "execution_count": 29,
   "id": "ae82dd29-3498-4995-9f47-a2c0f3031850",
   "metadata": {},
   "outputs": [],
   "source": [
    "def replace_processor(processor_str):\n",
    "    if isinstance(processor_str, str):\n",
    "        if 'Octa Core' in processor_str:\n",
    "            return 8\n",
    "        elif 'Nine' in processor_str:\n",
    "            return 9\n",
    "        elif 'Deca Core' in processor_str:\n",
    "            return 10\n",
    "    return None"
   ]
  },
  {
   "cell_type": "markdown",
   "id": "82dbea96-0818-488b-862d-81307fabd0e2",
   "metadata": {},
   "source": [
    "- Change the column name from Processor to core"
   ]
  },
  {
   "cell_type": "code",
   "execution_count": 30,
   "id": "6712506b-0f80-4fc9-b437-e0b9f388018b",
   "metadata": {},
   "outputs": [],
   "source": [
    "df['core'] = df['Processor'].apply(replace_processor)"
   ]
  },
  {
   "cell_type": "markdown",
   "id": "15007dd8-de21-4561-9f02-e6c9fb261b1b",
   "metadata": {},
   "source": [
    "- Drop the old 'Processor' column"
   ]
  },
  {
   "cell_type": "code",
   "execution_count": 31,
   "id": "83c87dae-0c59-4aed-b7d3-4f698eb8a667",
   "metadata": {},
   "outputs": [],
   "source": [
    "df.drop('Processor', axis=1, inplace=True)"
   ]
  },
  {
   "cell_type": "markdown",
   "id": "3ef0e80a-b0f7-4337-80d0-4d48ac241edc",
   "metadata": {},
   "source": [
    "## Preprocessing 'Processor_name' Column\n",
    "- Define popular processor family"
   ]
  },
  {
   "cell_type": "code",
   "execution_count": 32,
   "id": "28f82301-8084-48ab-b803-aeaf43ecccdd",
   "metadata": {},
   "outputs": [],
   "source": [
    "known_processors = [\n",
    "    'Exynos', 'Helio', 'Dimensity', 'Snapdragon', 'Tensor', 'Kirin', 'Unisoc', 'Tiger'\n",
    "]"
   ]
  },
  {
   "cell_type": "markdown",
   "id": "374a0c08-90bd-4d44-aa54-8c821387ae06",
   "metadata": {},
   "source": [
    "- Function to extract processor family"
   ]
  },
  {
   "cell_type": "code",
   "execution_count": 33,
   "id": "11c10ac7-1c97-416c-bc80-531c8328cd7c",
   "metadata": {},
   "outputs": [],
   "source": [
    "def extract_processor_family(name):\n",
    "    for processor in known_processors:\n",
    "        if processor in name:\n",
    "            return processor\n",
    "    return ''"
   ]
  },
  {
   "cell_type": "markdown",
   "id": "afb900dc-cd5b-44d8-8e05-92e753074d4d",
   "metadata": {},
   "source": [
    "- replace with processor family"
   ]
  },
  {
   "cell_type": "code",
   "execution_count": 34,
   "id": "79f0fb97-fe0b-45f8-9b09-4573420dbf6d",
   "metadata": {},
   "outputs": [],
   "source": [
    "df['Processor_name'] = df['Processor_name'].apply(extract_processor_family)"
   ]
  },
  {
   "cell_type": "markdown",
   "id": "235a28da-22e0-4998-ba81-79d08c0322c7",
   "metadata": {},
   "source": [
    "## Download the preprocessed csv file"
   ]
  },
  {
   "cell_type": "code",
   "execution_count": 35,
   "id": "31acc9c6-c832-4552-bb09-99fe349d6952",
   "metadata": {},
   "outputs": [],
   "source": [
    "df.to_csv('preprocessed_mobile_data.csv', index=False)"
   ]
  }
 ],
 "metadata": {
  "kernelspec": {
   "display_name": "Python 3 (ipykernel)",
   "language": "python",
   "name": "python3"
  },
  "language_info": {
   "codemirror_mode": {
    "name": "ipython",
    "version": 3
   },
   "file_extension": ".py",
   "mimetype": "text/x-python",
   "name": "python",
   "nbconvert_exporter": "python",
   "pygments_lexer": "ipython3",
   "version": "3.12.3"
  }
 },
 "nbformat": 4,
 "nbformat_minor": 5
}
